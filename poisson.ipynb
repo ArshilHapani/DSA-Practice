{
 "cells": [
  {
   "cell_type": "markdown",
   "metadata": {},
   "source": [
    "## To find the poisson distribution\n",
    "\n",
    "$P(X = r) = \\frac{e^{-m}*{m^r}}{r!}  $\n",
    "\n",
    "Where \n",
    "- e = exponential constant `(2.718281828459045) mostly`\n",
    "- m = mean $\\mu$ = n*p\n",
    "- r = random variable\n"
   ]
  },
  {
   "cell_type": "code",
   "execution_count": 18,
   "metadata": {},
   "outputs": [
    {
     "name": "stdout",
     "output_type": "stream",
     "text": [
      "P(X = 0) = 3.775134544279102e-11\n",
      "P(X = 1) = 9.060322906269846e-10\n",
      "P(X = 2) = 1.0872387487523814e-08\n",
      "\n",
      "Total probability = 1.181617112359359e-08\n",
      "1 - P(X = 2) = 1 - 1.181617112359359e-08 = 0.9999999881838288\n"
     ]
    }
   ],
   "source": [
    "import math            \n",
    "\n",
    "n = 200\n",
    "p = 0.12\n",
    "x = 2\n",
    "\n",
    "m = p * n\n",
    "ans = 0\n",
    "temp = list()\n",
    "e = math.e**-m\n",
    "\n",
    "for i in range(x + 1):\n",
    "    temp.append(e * m**i / math.factorial(i))\n",
    "    print(f\"P(X = {i}) = {temp[i]}\")\n",
    "\n",
    "for item in temp:\n",
    "    ans += item\n",
    "\n",
    "\n",
    "print(f\"\\nTotal probability = {ans}\")\n",
    "print(f\"1 - P(X = {x}) = 1 - {ans} = {1 - ans}\")"
   ]
  }
 ],
 "metadata": {
  "kernelspec": {
   "display_name": "Python 3",
   "language": "python",
   "name": "python3"
  },
  "language_info": {
   "codemirror_mode": {
    "name": "ipython",
    "version": 3
   },
   "file_extension": ".py",
   "mimetype": "text/x-python",
   "name": "python",
   "nbconvert_exporter": "python",
   "pygments_lexer": "ipython3",
   "version": "3.11.6"
  }
 },
 "nbformat": 4,
 "nbformat_minor": 2
}
